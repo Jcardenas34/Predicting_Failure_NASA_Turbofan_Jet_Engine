{
 "cells": [
  {
   "cell_type": "code",
   "execution_count": 1,
   "id": "dced28ab-2440-4bbc-8041-c86cd283e621",
   "metadata": {},
   "outputs": [],
   "source": [
    "import numpy as np\n",
    "from hmmlearn import hmm"
   ]
  },
  {
   "cell_type": "code",
   "execution_count": 2,
   "id": "f176ab06-41e2-472f-974e-db93bb14f536",
   "metadata": {},
   "outputs": [
    {
     "ename": "AttributeError",
     "evalue": "'GaussianHMM' object has no attribute 'means_'",
     "output_type": "error",
     "traceback": [
      "\u001b[0;31m---------------------------------------------------------------------------\u001b[0m",
      "\u001b[0;31mAttributeError\u001b[0m                            Traceback (most recent call last)",
      "Cell \u001b[0;32mIn[2], line 22\u001b[0m\n\u001b[1;32m     11\u001b[0m model\u001b[38;5;241m.\u001b[39mtransmat_ \u001b[38;5;241m=\u001b[39m np\u001b[38;5;241m.\u001b[39marray([[\u001b[38;5;241m0.6\u001b[39m, \u001b[38;5;241m0.2\u001b[39m, \u001b[38;5;241m0.1\u001b[39m, \u001b[38;5;241m0.1\u001b[39m], \n\u001b[1;32m     12\u001b[0m                             [\u001b[38;5;241m0.0\u001b[39m, \u001b[38;5;241m0.7\u001b[39m, \u001b[38;5;241m0.2\u001b[39m, \u001b[38;5;241m0.1\u001b[39m], \n\u001b[1;32m     13\u001b[0m                             [\u001b[38;5;241m0.0\u001b[39m, \u001b[38;5;241m0.0\u001b[39m, \u001b[38;5;241m0.6\u001b[39m, \u001b[38;5;241m0.4\u001b[39m],\n\u001b[1;32m     14\u001b[0m                             [\u001b[38;5;241m0.0\u001b[39m, \u001b[38;5;241m0.0\u001b[39m, \u001b[38;5;241m0.0\u001b[39m, \u001b[38;5;241m1.0\u001b[39m]])\n\u001b[1;32m     16\u001b[0m \u001b[38;5;66;03m# Needs adjustment\u001b[39;00m\n\u001b[1;32m     17\u001b[0m \u001b[38;5;66;03m# model.means_ = np.array([[0.0, 0.0], [3.0, -3.0], [5.0, 10.0]])\u001b[39;00m\n\u001b[1;32m     18\u001b[0m \n\u001b[1;32m     19\u001b[0m \u001b[38;5;66;03m# Needs adjustment\u001b[39;00m\n\u001b[1;32m     20\u001b[0m \u001b[38;5;66;03m# model.covars_ = np.tile(np.identity(2), (3, 1, 1))\u001b[39;00m\n\u001b[0;32m---> 22\u001b[0m X, Z \u001b[38;5;241m=\u001b[39m model\u001b[38;5;241m.\u001b[39msample(\u001b[38;5;241m100\u001b[39m)\n",
      "File \u001b[0;32m~/anaconda3/lib/python3.11/site-packages/hmmlearn/base.py:428\u001b[0m, in \u001b[0;36m_AbstractHMM.sample\u001b[0;34m(self, n_samples, random_state, currstate)\u001b[0m\n\u001b[1;32m    399\u001b[0m \u001b[38;5;250m\u001b[39m\u001b[38;5;124;03m\"\"\"\u001b[39;00m\n\u001b[1;32m    400\u001b[0m \u001b[38;5;124;03mGenerate random samples from the model.\u001b[39;00m\n\u001b[1;32m    401\u001b[0m \n\u001b[0;32m   (...)\u001b[0m\n\u001b[1;32m    425\u001b[0m \u001b[38;5;124;03m    X, Z = model.sample(n_samples=10, currstate=Z[-1])\u001b[39;00m\n\u001b[1;32m    426\u001b[0m \u001b[38;5;124;03m\"\"\"\u001b[39;00m\n\u001b[1;32m    427\u001b[0m check_is_fitted(\u001b[38;5;28mself\u001b[39m, \u001b[38;5;124m\"\u001b[39m\u001b[38;5;124mstartprob_\u001b[39m\u001b[38;5;124m\"\u001b[39m)\n\u001b[0;32m--> 428\u001b[0m \u001b[38;5;28mself\u001b[39m\u001b[38;5;241m.\u001b[39m_check()\n\u001b[1;32m    430\u001b[0m \u001b[38;5;28;01mif\u001b[39;00m random_state \u001b[38;5;129;01mis\u001b[39;00m \u001b[38;5;28;01mNone\u001b[39;00m:\n\u001b[1;32m    431\u001b[0m     random_state \u001b[38;5;241m=\u001b[39m \u001b[38;5;28mself\u001b[39m\u001b[38;5;241m.\u001b[39mrandom_state\n",
      "File \u001b[0;32m~/anaconda3/lib/python3.11/site-packages/hmmlearn/hmm.py:327\u001b[0m, in \u001b[0;36mGaussianHMM._check\u001b[0;34m(self)\u001b[0m\n\u001b[1;32m    324\u001b[0m \u001b[38;5;28;01mdef\u001b[39;00m \u001b[38;5;21m_check\u001b[39m(\u001b[38;5;28mself\u001b[39m):\n\u001b[1;32m    325\u001b[0m     \u001b[38;5;28msuper\u001b[39m()\u001b[38;5;241m.\u001b[39m_check()\n\u001b[0;32m--> 327\u001b[0m     \u001b[38;5;28mself\u001b[39m\u001b[38;5;241m.\u001b[39mmeans_ \u001b[38;5;241m=\u001b[39m np\u001b[38;5;241m.\u001b[39masarray(\u001b[38;5;28mself\u001b[39m\u001b[38;5;241m.\u001b[39mmeans_)\n\u001b[1;32m    328\u001b[0m     \u001b[38;5;28mself\u001b[39m\u001b[38;5;241m.\u001b[39mn_features \u001b[38;5;241m=\u001b[39m \u001b[38;5;28mself\u001b[39m\u001b[38;5;241m.\u001b[39mmeans_\u001b[38;5;241m.\u001b[39mshape[\u001b[38;5;241m1\u001b[39m]\n\u001b[1;32m    330\u001b[0m     \u001b[38;5;28;01mif\u001b[39;00m \u001b[38;5;28mself\u001b[39m\u001b[38;5;241m.\u001b[39mcovariance_type \u001b[38;5;129;01mnot\u001b[39;00m \u001b[38;5;129;01min\u001b[39;00m COVARIANCE_TYPES:\n",
      "\u001b[0;31mAttributeError\u001b[0m: 'GaussianHMM' object has no attribute 'means_'"
     ]
    }
   ],
   "source": [
    "\n",
    "np.random.seed(42)\n",
    "\n",
    "# Let's define a Gaussian HMM with 4 internal states, representing the system's health\n",
    "# 1=Fully operational, 2 = damaged, 3 = severely damaged, 4 = Failed\n",
    "model = hmm.GaussianHMM(n_components=4, covariance_type=\"full\")\n",
    "\n",
    "# The initial probability of the engine being in good health is 1, as they are guaranteed to be operational by the supporting documentation\n",
    "model.startprob_ = np.array([0.8, 0.2, 0.0, 0.0])\n",
    "\n",
    "# The probability of transitioning from a damaged state to a fully operational state is or at least should be impossible once the damage is done\n",
    "model.transmat_ = np.array([[0.6, 0.2, 0.1, 0.1], \n",
    "                            [0.0, 0.7, 0.2, 0.1], \n",
    "                            [0.0, 0.0, 0.6, 0.4],\n",
    "                            [0.0, 0.0, 0.0, 1.0]])\n",
    "\n",
    "# Needs adjustment\n",
    "# model.means_ = np.array([[0.0, 0.0], [3.0, -3.0], [5.0, 10.0]])\n",
    "\n",
    "# Needs adjustment\n",
    "# model.covars_ = np.tile(np.identity(2), (3, 1, 1))\n",
    "\n",
    "X, Z = model.sample(100)"
   ]
  },
  {
   "cell_type": "code",
   "execution_count": null,
   "id": "5b3857d3-2580-4a55-a3e7-b6d2a26228f9",
   "metadata": {},
   "outputs": [],
   "source": []
  }
 ],
 "metadata": {
  "kernelspec": {
   "display_name": "Python 3 (ipykernel)",
   "language": "python",
   "name": "python3"
  },
  "language_info": {
   "codemirror_mode": {
    "name": "ipython",
    "version": 3
   },
   "file_extension": ".py",
   "mimetype": "text/x-python",
   "name": "python",
   "nbconvert_exporter": "python",
   "pygments_lexer": "ipython3",
   "version": "3.11.5"
  }
 },
 "nbformat": 4,
 "nbformat_minor": 5
}
