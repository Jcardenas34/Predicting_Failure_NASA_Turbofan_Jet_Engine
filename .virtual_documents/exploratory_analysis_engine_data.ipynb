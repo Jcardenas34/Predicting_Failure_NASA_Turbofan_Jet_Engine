import pandas as pd
from matplotlib import pyplot as plt
import seaborn as sns
import numpy as np


# Conducting exploratory analysis on engine data
df = pd.read_csv("./CMaps/train_FD001.txt", delimiter=' ')


# Opening of data reveals that there is no data labels so I am naming them here
column_names = ["unit_number","cycle_number","operational_setting_1","operational_setting_2","operational_setting_3"]
print(len(df.columns))
# The rest of the columns are sensor measurements, let's label the remaining by an index 
for k in range(1,len(df.columns)-len(column_names)+1):
    column_names.append("sensor_measurement_{}".format(k))

df.columns = column_names


df.head()


# How many engines are in this dataset?
len(df["unit_number"].unique())


# What is the longest and shortest suriving engines?
print("Max Cycle length: {}".format(max(df["cycle_number"])))


# Which engine is this? looks like Unit 69, we can use this as a benchmark for normal range of operating sensor values
df.loc[df["cycle_number"]==362]


# Grouping dataset by unit number\
df_units = df.groupby("unit_number")['cycle_number'].max()

# What is the max and min of the cycle number?
print("Min cycles: {} and Max cycles: {}".format(min(df_units), max(df_units)))

# Lets find the unit with the least number of cycles, that failed the earliest
print("\nUnit with most cycles:")
print(df_units.loc[df_units==max(df_units)])
print("\nUnit with least cycles:")
print(df_units.loc[df_units==min(df_units)])

# cycle_values = df_units.to_numpy()
# unit_num = [x for x in range(1,len(cycle_values)+1)]
# print(cycle_values, unit_num)
# plt.plot(unit_num, cycle_values)


# Let's take a look at the data, we know we have the same characteristics for multiple engines, so let's make a FacetGrid in seaborn
# Let's chunk the plots in groups of 5 
increment = 5
for index, section in enumerate(np.arange(5,105,increment)):
    print(section)
    g = sns.FacetGrid(df[(df["unit_number"]>(section-increment)) & (df["unit_number"]<=section)], col="unit_number",sharex=True)
    g.map(sns.lineplot, "cycle_number", "operational_setting_1")
    # g.map(sns.lineplot, "cycle_number", "sensor_measurement_20")
    plt.show()
    
# Unit 39 dies the earliest, why?
# Units 67 and 96 are very long-lasting, why?


# Let's make sure that I am selecting the correct data
long_short_living_units = df[(df["unit_number"]==69) | (df["unit_number"]==39) ]
print("Units in this dataset: {}".format( long_short_living_units["unit_number"].unique()))
long_short_living_units.head()


longest_cycles = long_short_living_units[long_short_living_units["unit_number"]==69]["cycle_number"].max()
shortest_cycles = long_short_living_units[long_short_living_units["unit_number"]==39]["cycle_number"].max()
print("Min cycles: {} and Max cycles: {}".format(shortest_cycles, longest_cycles))


# Let's take a look at the sensor data for units 69 and 39 which are the longest and shortest living units

# There are 26 sensors, 24 with meaningful data so let's make a 5 by 5 grid, the last 2 are NAN plots anyway
fig, axes = plt.subplots(5, 5, figsize=(35, 35))
# fig.suptitle("Longest vs Shortest living engine")
for var, ax in zip(list(df.columns)[2:], axes.flat):
    # print(var)
    sns.lineplot(data = long_short_living_units , x = "cycle_number", y = var, hue=long_short_living_units["unit_number"], 
                 palette="colorblind",
                 ax=ax
                )
    plt.title(var)

# Ok so, I guess it makes sense that the sensor data is VERY different between the two








df.drop(["operational_setting_3",
            "sensor_measurement_1", 
              "sensor_measurement_5",
              "sensor_measurement_6",
              "sensor_measurement_10", 
              "sensor_measurement_16",
              "sensor_measurement_18",
              "sensor_measurement_19", 
              "sensor_measurement_22",
              "sensor_measurement_23"], axis=1, inplace=True)


fig, axes = plt.subplots(4, 4, figsize=(35, 35))
# fig.suptitle("Longest vs Shortest living engine")
for var, ax in zip(list(df.columns)[2:], axes.flat):
    # print(var)
    sns.lineplot(data = long_short_living_units , x = "cycle_number", y = var, hue=long_short_living_units["unit_number"], 
                 palette="colorblind",
                 ax=ax
                )
    plt.title(var)









# Compute correlation matrix for variables of jet engine 1 
corr_matrix = df[df["unit_number"]==1].corr()

# Make a heat map to represent degree of correlation between features
plt.figure(figsize=(15, 13))
sns.heatmap(corr_matrix, annot=True, cmap="coolwarm", fmt=".2f", linewidths=0.5)
plt.title("Correlation Matrix")
plt.show()





from sklearn import preprocessing


# Initialize the StandardScaler
scaler = preprocessing.StandardScaler()

# Fit and transform all columns
scaled_values = scaler.fit_transform(df)

# Create a new DataFrame with the scaled values, preserving column names
df_scaled = pd.DataFrame(scaled_values, columns=df.columns)

df_scaled.head()


# # Initialize the StandardScaler
# scaler = preprocessing.StandardScaler()

# # Fit and transform all columns
# scaled_values = scaler.fit_transform(long_short_living_units)

# # Create a new DataFrame with the scaled values, preserving column names
# long_short_living_units_scaled = pd.DataFrame(scaled_values, columns=long_short_living_units.columns)

# long_short_living_units_scaled.head()

# Assuming your DataFrame is named 'df' and the column to exclude is 'excluded_column'
df_numerical = long_short_living_units.loc[:, long_short_living_units.columns != 'unit_number']

# Initialize the StandardScaler
scaler = preprocessing.StandardScaler()

# Fit and transform the selected columns
long_short_living_units[df_numerical.columns] = scaler.fit_transform(df_numerical)
long_short_living_units.head()


fig, axes = plt.subplots(4, 4, figsize=(35, 35))
# fig.suptitle("Longest vs Shortest living engine")
for var, ax in zip(list(df.columns)[2:], axes.flat):
    # print(var)
    sns.lineplot(data = long_short_living_units, x = "cycle_number", y = var, hue=long_short_living_units["unit_number"], 
                 palette="colorblind",
                 ax=ax
                )
    plt.title(var)



