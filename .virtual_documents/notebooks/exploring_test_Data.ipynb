import pandas as pd
import matplotlib.pyplot as plt
import seaborn as sns
import numpy
import numpy as np
import h5py


test_df = pd.read_csv("../CMaps/test_FD001.txt", sep=" ",header=None)
test_df.head()


column_names = ["unit_number","cycle_number","operational_setting_1","operational_setting_2","operational_setting_3"]
n_cols = len(test_df.columns)
print(f"Number of Columns: {n_cols}")


# The rest of the columns are sensor measurements, let's label the remaining by an index 
for k in range(1,len(test_df.columns)-len(column_names)+1):
    column_names.append("sensor_measurement_{}".format(k))

test_df.columns = column_names
n_engines = len(test_df["unit_number"].unique())
print(f"Number of Units: {n_engines}")


test_df.describe()


test_df.drop(["sensor_measurement_22","sensor_measurement_23"], axis=1, inplace=True)


test_df


# Loading the true RUL after last observed cycle
true_RUL_df = pd.read_csv("../Cmaps/RUL_FD001.txt", header=None, names=["RUL"])
true_RUL_df.columns


true_RUL_df = true_RUL_df.reset_index()
true_RUL_df["unit_number"] = true_RUL_df["index"].apply(lambda row: row+1)
true_RUL_df


# Gather the max cycles run
max_cycle_dict = test_df.groupby("unit_number")["cycle_number"].max().reset_index().set_index('unit_number')['cycle_number'].to_dict()
# Max cycles run
for k,v in max_cycle_dict.items():
    print(k,v)
    if k == 5:
        break
# max_cycle_dict



# Creating a key value pair that stores the true RUL for a given engine
# Gives "unit_number":"RUL"
RUL_dict = true_RUL_df.set_index('unit_number')['RUL'].to_dict()
for k,v in RUL_dict.items():
    print(k,v)
    if k == 5:
        break


# We want the true RUL to be 
# True_RUL + Max_cycles - current_cycle, so that if current_cycle== Max_cycle we get the true RUL for the last run
test_df["true_RUL"] = test_df[["unit_number","cycle_number"]].apply(lambda row: RUL_dict[row["unit_number"]] + max_cycle_dict[row["unit_number"]] - row["cycle_number"], axis=1)
test_df[["unit_number","cycle_number","true_RUL"]][test_df["unit_number"]==1]


# Confirming that the lasy cycle has the correct true_RUL
test_df[["unit_number","cycle_number","true_RUL"]][test_df["unit_number"]==3]


# Now lets package up the data and create a dataset to test...
# Create a dataset for Unit 1 where the window is 150 cycles long
window_size = 150
unit=1
print(unit)
sub_sample = test_df[test_df["unit_number"]==unit]


# sub_sample


     import warnings
     warnings.filterwarnings('ignore')


windows = []
# print(window_size > len(sub_sample))
windows = []
window_size = 150  # or whatever you want

for i in range(1, 8):  # or loop over all unit_numbers
    print(f"Unit: {i}")
    
    sub_sample = test_df[test_df["unit_number"] == i].copy()
    print("Original shape:", sub_sample.shape)

    # Determine how many padding rows are needed
    num_to_pad = window_size - len(sub_sample)

    if num_to_pad > 0:
        # Create a DataFrame with zero rows that match sub_sample columns
        padding_df = pd.DataFrame(
            data=np.zeros((num_to_pad, sub_sample.shape[1])),
            columns=sub_sample.columns
        )

        # Optionally fill in identifier columns, if needed:
        padding_df["unit_number"] = i
        padding_df["cycle_number"] = np.arange(-num_to_pad, 0)  # Dummy values

        # Append padded rows
        sub_sample = pd.concat([padding_df, sub_sample], ignore_index=True)
        print("Final shape:", sub_sample.T.shape)
        windows.append(sub_sample.T.to_numpy())
    
    else:
        for i in range(len(sub_sample) - window_size + 1):
            print(sub_sample.iloc[i:i+window_size].T.to_numpy().shape)
            windows.append(sub_sample.iloc[i:i+window_size].T.to_numpy())



print(len(windows))


# windows.shape()


def create_hdf5(unit_num, np_array):
    '''
    Creating the hdf5 dataset according to the unit number
    '''
    # Store the array into an HDF5 file
    with h5py.File(f'../data/unit_test_{unit_num}.h5', 'w') as hf:
        hf.create_dataset(f'unit_test_{unit_num}', data=np_array)
    
    # Load the array from the HDF5 file
    with h5py.File(f'../data/unit_test_{unit_num}.h5', 'r') as hf:
        loaded_array = hf[f'unit_test_{unit_num}'][:]
    
    # Verify the loaded array
    print(np.array_equal(np_array, loaded_array)) # Should print True
    print(loaded_array.shape)


create_hdf5(8, windows)


# sub_sample.iloc[25:40]





# windows



